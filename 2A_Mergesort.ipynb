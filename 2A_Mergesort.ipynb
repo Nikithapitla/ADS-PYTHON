{
  "nbformat": 4,
  "nbformat_minor": 0,
  "metadata": {
    "colab": {
      "name": "2A.Mergesort",
      "provenance": [],
      "authorship_tag": "ABX9TyPk75IYMOjUr5rpSeQhoZXq",
      "include_colab_link": true
    },
    "kernelspec": {
      "name": "python3",
      "display_name": "Python 3"
    }
  },
  "cells": [
    {
      "cell_type": "markdown",
      "metadata": {
        "id": "view-in-github",
        "colab_type": "text"
      },
      "source": [
        "<a href=\"https://colab.research.google.com/github/Nikithapitla/ADS-PYTHON-/blob/main/2A_Mergesort.ipynb\" target=\"_parent\"><img src=\"https://colab.research.google.com/assets/colab-badge.svg\" alt=\"Open In Colab\"/></a>"
      ]
    },
    {
      "cell_type": "code",
      "metadata": {
        "id": "s858iHwy2OKP"
      },
      "source": [
        ""
      ],
      "execution_count": null,
      "outputs": []
    },
    {
      "cell_type": "code",
      "metadata": {
        "colab": {
          "base_uri": "https://localhost:8080/"
        },
        "id": "9lz5IKbI55Do",
        "outputId": "aa51e7f6-f325-43b2-b8e2-660baf229482"
      },
      "source": [
        "def mergesort(arr, start, end):\r\n",
        "    \r\n",
        "    if end - start > 1:\r\n",
        "        mid = (start + end)//2\r\n",
        "        mergesort(arr, start, mid)\r\n",
        "        mergesort(arr, mid, end)\r\n",
        "        merge_arr(arr, start, mid, end)\r\n",
        " \r\n",
        "def merge_arr(arr, start, mid, end):\r\n",
        "    left = arr[start:mid]\r\n",
        "    right = arr[mid:end]\r\n",
        "    k = start\r\n",
        "    i = 0\r\n",
        "    j = 0\r\n",
        "    while (start + i < mid and mid + j < end):\r\n",
        "        if (left[i] <= right[j]):\r\n",
        "            arr[k] = left[i]\r\n",
        "            i = i + 1\r\n",
        "        else:\r\n",
        "            arr[k] = right[j]\r\n",
        "            j = j + 1\r\n",
        "        k = k + 1\r\n",
        "    if start + i < mid:\r\n",
        "        while k < end:\r\n",
        "            arr[k] = left[i]\r\n",
        "            i = i + 1\r\n",
        "            k = k + 1\r\n",
        "    else:\r\n",
        "        while k < end:\r\n",
        "            arr[k] = right[j]\r\n",
        "            j = j + 1\r\n",
        "            k = k + 1\r\n",
        " \r\n",
        " \r\n",
        "arr = input('Enter elements: ').split()\r\n",
        "arr = [int(x) for x in arr]\r\n",
        "mergesort(arr, 0, len(arr))\r\n",
        "print('Sorted list: ', end='')\r\n",
        "print(arr)"
      ],
      "execution_count": 1,
      "outputs": [
        {
          "output_type": "stream",
          "text": [
            "Enter elements: 4 3 5 3 5\n",
            "Sorted list: [3, 3, 4, 5, 5]\n"
          ],
          "name": "stdout"
        }
      ]
    },
    {
      "cell_type": "code",
      "metadata": {
        "id": "DrUAoOyw8jBw"
      },
      "source": [
        ""
      ],
      "execution_count": null,
      "outputs": []
    }
  ]
}