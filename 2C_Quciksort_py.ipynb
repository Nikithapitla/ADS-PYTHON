{
  "nbformat": 4,
  "nbformat_minor": 0,
  "metadata": {
    "colab": {
      "name": "2C.Quciksort.py",
      "provenance": [],
      "collapsed_sections": [],
      "authorship_tag": "ABX9TyP8w3YezpJRIWIvWUf+vlVH",
      "include_colab_link": true
    },
    "kernelspec": {
      "name": "python3",
      "display_name": "Python 3"
    }
  },
  "cells": [
    {
      "cell_type": "markdown",
      "metadata": {
        "id": "view-in-github",
        "colab_type": "text"
      },
      "source": [
        "<a href=\"https://colab.research.google.com/github/Nikithapitla/ADS-PYTHON-/blob/main/2C_Quciksort_py.ipynb\" target=\"_parent\"><img src=\"https://colab.research.google.com/assets/colab-badge.svg\" alt=\"Open In Colab\"/></a>"
      ]
    },
    {
      "cell_type": "code",
      "metadata": {
        "id": "s858iHwy2OKP"
      },
      "source": [
        ""
      ],
      "execution_count": 5,
      "outputs": []
    },
    {
      "cell_type": "code",
      "metadata": {
        "colab": {
          "base_uri": "https://localhost:8080/"
        },
        "id": "9lz5IKbI55Do",
        "outputId": "a2317c1d-64c2-4164-d2d2-8fed985053a6"
      },
      "source": [
        "def quicksort(arr, start, end):\r\n",
        "  \r\n",
        "    if end - start > 1:\r\n",
        "        p = partition(arr, start, end)\r\n",
        "        quicksort(arr, start, p)\r\n",
        "        quicksort(arr, p + 1, end)\r\n",
        " \r\n",
        " \r\n",
        "def partition(arr, start, end):\r\n",
        "    pivot = arr[start]\r\n",
        "    i = start + 1\r\n",
        "    j = end - 1\r\n",
        " \r\n",
        "    while True:\r\n",
        "        while (i <= j and arr[i] <= pivot):\r\n",
        "            i = i + 1\r\n",
        "        while (i <= j and arr[j] >= pivot):\r\n",
        "            j = j - 1\r\n",
        " \r\n",
        "        if i <= j:\r\n",
        "            arr[i], arr[j] = arr[j], arr[i]\r\n",
        "        else:\r\n",
        "            arr[start], arr[j] = arr[j], arr[start]\r\n",
        "            return j\r\n",
        " \r\n",
        " \r\n",
        "arr = input('Enter the elements: ').split()\r\n",
        "arr = [int(x) for x in arr]\r\n",
        "quicksort(arr, 0, len(arr))\r\n",
        "print('Sorted list: ', end='')\r\n",
        "print(arr)"
      ],
      "execution_count": 7,
      "outputs": [
        {
          "output_type": "stream",
          "text": [
            "Enter the elements: 4 5 3 6 3 \n",
            "Sorted list: [3, 3, 4, 5, 6]\n"
          ],
          "name": "stdout"
        }
      ]
    }
  ]
}